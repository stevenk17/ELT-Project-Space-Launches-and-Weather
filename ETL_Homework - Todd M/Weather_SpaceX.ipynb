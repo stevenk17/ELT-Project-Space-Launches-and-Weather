{
 "cells": [
  {
   "cell_type": "code",
   "execution_count": 8,
   "metadata": {},
   "outputs": [],
   "source": [
    "import requests\n",
    "import json\n",
    "import pandas as pd"
   ]
  },
  {
   "cell_type": "code",
   "execution_count": 12,
   "metadata": {},
   "outputs": [],
   "source": [
    "# URL for GET requests to retrieve vehicle data\n",
    "url = \"https://api.nasa.gov/DONKI/CMEAnalysis?startDate=2016-09-01&endDate=2016-09-30&mostAccurateOnly=true&speed=500&halfAngle=30&catalog=ALL&api_key=DEMO_KEY\""
   ]
  },
  {
   "cell_type": "code",
   "execution_count": 13,
   "metadata": {},
   "outputs": [
    {
     "name": "stdout",
     "output_type": "stream",
     "text": [
      "[\n",
      "    {\n",
      "        \"associatedCMEID\": \"2016-09-06T08:54:00-CME-001\",\n",
      "        \"catalog\": \"SWRC_CATALOG\",\n",
      "        \"halfAngle\": 31.0,\n",
      "        \"isMostAccurate\": true,\n",
      "        \"latitude\": -20.0,\n",
      "        \"link\": \"https://kauai.ccmc.gsfc.nasa.gov/DONKI/view/CMEAnalysis/11233/-1\",\n",
      "        \"longitude\": 120.0,\n",
      "        \"note\": \"\",\n",
      "        \"speed\": 674.0,\n",
      "        \"time21_5\": \"2016-09-06T14:18Z\",\n",
      "        \"type\": \"C\"\n",
      "    },\n",
      "    {\n",
      "        \"associatedCMEID\": \"2016-09-14T23:36:00-CME-001\",\n",
      "        \"catalog\": \"SWRC_CATALOG\",\n",
      "        \"halfAngle\": 43.0,\n",
      "        \"isMostAccurate\": true,\n",
      "        \"latitude\": -18.0,\n",
      "        \"link\": \"https://kauai.ccmc.gsfc.nasa.gov/DONKI/view/CMEAnalysis/11256/-1\",\n",
      "        \"longitude\": -122.0,\n",
      "        \"note\": \"Measured with swpc_cat using C3 and STA Cor2 imagery.\",\n",
      "        \"speed\": 722.0,\n",
      "        \"time21_5\": \"2016-09-15T04:24Z\",\n",
      "        \"type\": \"C\"\n",
      "    }\n",
      "]\n"
     ]
    }
   ],
   "source": [
    "# Pretty print JSON for all launchpads\n",
    "response = requests.get(url).json()\n",
    "print(json.dumps(response, indent=4, sort_keys=True))"
   ]
  },
  {
   "cell_type": "code",
   "execution_count": null,
   "metadata": {},
   "outputs": [],
   "source": []
  }
 ],
 "metadata": {
  "kernelspec": {
   "display_name": "Python 3",
   "language": "python",
   "name": "python3"
  },
  "language_info": {
   "codemirror_mode": {
    "name": "ipython",
    "version": 3
   },
   "file_extension": ".py",
   "mimetype": "text/x-python",
   "name": "python",
   "nbconvert_exporter": "python",
   "pygments_lexer": "ipython3",
   "version": "3.7.4"
  }
 },
 "nbformat": 4,
 "nbformat_minor": 2
}
